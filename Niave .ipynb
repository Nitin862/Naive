{
 "cells": [
  {
   "cell_type": "code",
   "execution_count": 1,
   "id": "0a6b7d44-666c-409a-aef4-fb137c91940e",
   "metadata": {},
   "outputs": [
    {
     "data": {
      "text/plain": [
       "\"Q1. What is Bayes' theorem?\""
      ]
     },
     "execution_count": 1,
     "metadata": {},
     "output_type": "execute_result"
    }
   ],
   "source": [
    "'''Q1. What is Bayes' theorem?'''"
   ]
  },
  {
   "cell_type": "code",
   "execution_count": 2,
   "id": "2392dd74-d89a-4e4e-8c29-b690c7e8bc52",
   "metadata": {},
   "outputs": [
    {
     "data": {
      "text/plain": [
       "\"Bayes' theorem is a principle in probability theory that describes how to update the probability of a hypothesis based on new evidence. It is expressed as:\\n\\n\\\\[\\nP(A|B) = \\x0crac{P(B|A) \\\\cdot P(A)}{P(B)}\\n\\\\]\\n\\nWhere:\\n- \\\\( P(A|B) \\\\) is the posterior probability: the probability of event \\\\( A \\\\) given that \\\\( B \\\\) has occurred.\\n- \\\\( P(B|A) \\\\) is the likelihood: the probability of observing \\\\( B \\\\) given \\\\( A \\\\) is true.\\n- \\\\( P(A) \\\\) is the prior probability: the initial probability of \\\\( A \\\\).\\n- \\\\( P(B) \\\\) is the marginal likelihood: the total probability of \\\\( B \\\\).\""
      ]
     },
     "execution_count": 2,
     "metadata": {},
     "output_type": "execute_result"
    }
   ],
   "source": [
    "'''Bayes' theorem is a principle in probability theory that describes how to update the probability of a hypothesis based on new evidence. It is expressed as:\n",
    "\n",
    "\\[\n",
    "P(A|B) = \\frac{P(B|A) \\cdot P(A)}{P(B)}\n",
    "\\]\n",
    "\n",
    "Where:\n",
    "- \\( P(A|B) \\) is the posterior probability: the probability of event \\( A \\) given that \\( B \\) has occurred.\n",
    "- \\( P(B|A) \\) is the likelihood: the probability of observing \\( B \\) given \\( A \\) is true.\n",
    "- \\( P(A) \\) is the prior probability: the initial probability of \\( A \\).\n",
    "- \\( P(B) \\) is the marginal likelihood: the total probability of \\( B \\).'''"
   ]
  },
  {
   "cell_type": "code",
   "execution_count": 3,
   "id": "b4a31457-e416-49da-a14b-cdb1b81bdd16",
   "metadata": {},
   "outputs": [
    {
     "data": {
      "text/plain": [
       "\"Q2. What is the formula for Bayes' theorem?\""
      ]
     },
     "execution_count": 3,
     "metadata": {},
     "output_type": "execute_result"
    }
   ],
   "source": [
    "'''Q2. What is the formula for Bayes' theorem?'''"
   ]
  },
  {
   "cell_type": "code",
   "execution_count": 4,
   "id": "ae57441c-8714-4298-b874-75258e1867ef",
   "metadata": {},
   "outputs": [
    {
     "data": {
      "text/plain": [
       "\"The formula for Bayes' theorem is:\\n\\n\\\\[\\nP(A|B) = \\x0crac{P(B|A) \\\\cdot P(A)}{P(B)}\\n\\\\]\\n\\nWhere:\\n- \\\\( P(A|B) \\\\) is the posterior probability.\\n- \\\\( P(B|A) \\\\) is the likelihood.\\n- \\\\( P(A) \\\\) is the prior probability.\\n- \\\\( P(B) \\\\) is the marginal likelihood.\""
      ]
     },
     "execution_count": 4,
     "metadata": {},
     "output_type": "execute_result"
    }
   ],
   "source": [
    "'''The formula for Bayes' theorem is:\n",
    "\n",
    "\\[\n",
    "P(A|B) = \\frac{P(B|A) \\cdot P(A)}{P(B)}\n",
    "\\]\n",
    "\n",
    "Where:\n",
    "- \\( P(A|B) \\) is the posterior probability.\n",
    "- \\( P(B|A) \\) is the likelihood.\n",
    "- \\( P(A) \\) is the prior probability.\n",
    "- \\( P(B) \\) is the marginal likelihood.'''"
   ]
  },
  {
   "cell_type": "code",
   "execution_count": 5,
   "id": "e2ab3ea6-8bdd-4882-b669-ba313f494352",
   "metadata": {},
   "outputs": [
    {
     "data": {
      "text/plain": [
       "\"Q3. How is Bayes' theorem used in practice?\""
      ]
     },
     "execution_count": 5,
     "metadata": {},
     "output_type": "execute_result"
    }
   ],
   "source": [
    "'''Q3. How is Bayes' theorem used in practice?'''"
   ]
  },
  {
   "cell_type": "code",
   "execution_count": 6,
   "id": "22709824-e37e-4673-b93a-c872d5a8eee5",
   "metadata": {},
   "outputs": [
    {
     "data": {
      "text/plain": [
       "\"Bayes' theorem is used in practice for:\\n\\n1. **Classification**: In algorithms like Naive Bayes, it classifies data by updating probabilities based on features.\\n2. **Spam Filtering**: It determines the likelihood of an email being spam based on words and previous examples.\\n3. **Medical Diagnosis**: It updates the probability of a disease given test results and prior disease rates.\\n4. **Decision Making**: It helps in assessing the probability of outcomes based on prior knowledge and new evidence.\""
      ]
     },
     "execution_count": 6,
     "metadata": {},
     "output_type": "execute_result"
    }
   ],
   "source": [
    "'''Bayes' theorem is used in practice for:\n",
    "\n",
    "1. **Classification**: In algorithms like Naive Bayes, it classifies data by updating probabilities based on features.\n",
    "2. **Spam Filtering**: It determines the likelihood of an email being spam based on words and previous examples.\n",
    "3. **Medical Diagnosis**: It updates the probability of a disease given test results and prior disease rates.\n",
    "4. **Decision Making**: It helps in assessing the probability of outcomes based on prior knowledge and new evidence.'''"
   ]
  },
  {
   "cell_type": "code",
   "execution_count": 8,
   "id": "da9107a7-f51f-4e88-b924-8ed5d3294467",
   "metadata": {},
   "outputs": [
    {
     "data": {
      "text/plain": [
       "\"Q4. What is the relationship between Bayes' theorem and conditional probability?\""
      ]
     },
     "execution_count": 8,
     "metadata": {},
     "output_type": "execute_result"
    }
   ],
   "source": [
    "'''Q4. What is the relationship between Bayes' theorem and conditional probability?'''"
   ]
  },
  {
   "cell_type": "code",
   "execution_count": 7,
   "id": "17e88c85-0fa3-492f-8bd5-4adeeae11e6a",
   "metadata": {},
   "outputs": [
    {
     "data": {
      "text/plain": [
       "\"Bayes' theorem expresses the relationship between conditional probability and marginal probability. It calculates the conditional probability \\\\( P(A|B) \\\\), which is the probability of event \\\\( A \\\\) given that \\\\( B \\\\) has occurred, using the reverse conditional probability \\\\( P(B|A) \\\\), the prior probability \\\\( P(A) \\\\), and the marginal probability \\\\( P(B) \\\\).\""
      ]
     },
     "execution_count": 7,
     "metadata": {},
     "output_type": "execute_result"
    }
   ],
   "source": [
    "'''Bayes' theorem expresses the relationship between conditional probability and marginal probability. It calculates the conditional probability \\( P(A|B) \\), which is the probability of event \\( A \\) given that \\( B \\) has occurred, using the reverse conditional probability \\( P(B|A) \\), the prior probability \\( P(A) \\), and the marginal probability \\( P(B) \\).'''"
   ]
  },
  {
   "cell_type": "code",
   "execution_count": 9,
   "id": "7c5e61c8-e926-4070-87c2-54c71a82b016",
   "metadata": {},
   "outputs": [
    {
     "data": {
      "text/plain": [
       "'Q5. How do you choose which type of Naive Bayes classifier to use for any given problem?'"
      ]
     },
     "execution_count": 9,
     "metadata": {},
     "output_type": "execute_result"
    }
   ],
   "source": [
    "'''Q5. How do you choose which type of Naive Bayes classifier to use for any given problem?'''"
   ]
  },
  {
   "cell_type": "code",
   "execution_count": 10,
   "id": "8bb24462-4ed2-47c6-8388-2169f9b39ef4",
   "metadata": {},
   "outputs": [
    {
     "data": {
      "text/plain": [
       "'To choose the type of Naive Bayes classifier:\\n\\n1. **Gaussian Naive Bayes**: Use when features are continuous and assume a normal distribution.\\n2. **Multinomial Naive Bayes**: Use for discrete features, especially with word counts in text classification.\\n3. **Bernoulli Naive Bayes**: Use for binary/boolean features or data where features are represented as binary values.\\n\\nSelect based on the nature of your features and their distribution.'"
      ]
     },
     "execution_count": 10,
     "metadata": {},
     "output_type": "execute_result"
    }
   ],
   "source": [
    "'''To choose the type of Naive Bayes classifier:\n",
    "\n",
    "1. **Gaussian Naive Bayes**: Use when features are continuous and assume a normal distribution.\n",
    "2. **Multinomial Naive Bayes**: Use for discrete features, especially with word counts in text classification.\n",
    "3. **Bernoulli Naive Bayes**: Use for binary/boolean features or data where features are represented as binary values.\n",
    "\n",
    "Select based on the nature of your features and their distribution.'''"
   ]
  },
  {
   "cell_type": "code",
   "execution_count": 11,
   "id": "617a0e20-afc8-4333-b9e9-2d5fdecf8779",
   "metadata": {},
   "outputs": [
    {
     "data": {
      "text/plain": [
       "'Q6. Assignment:\\nYou have a dataset with two features, X1 and X2, and two possible classes, A and B. You want to use Naive\\nBayes to classify a new instance with features X1 = 3 and X2 = 4. The following table shows the frequency of\\neach feature value for each class:\\n\\nClass\\t X1=1 X1=2 \\tX1=3 \\tX2=1 \\tX2=2 \\tX2=3\\t X2=4\\n\\n A\\t 3\\t 3\\t 4\\t 4\\t 3\\t 3\\t 3\\n\\n B\\t 2\\t 2\\t 1\\t 2\\t 2\\t 2\\t 3\\n\\nAssuming equal prior probabilities for each class, which class would Naive Bayes predict the new instance\\nto belong to?'"
      ]
     },
     "execution_count": 11,
     "metadata": {},
     "output_type": "execute_result"
    }
   ],
   "source": [
    "'''Q6. Assignment:\n",
    "You have a dataset with two features, X1 and X2, and two possible classes, A and B. You want to use Naive\n",
    "Bayes to classify a new instance with features X1 = 3 and X2 = 4. The following table shows the frequency of\n",
    "each feature value for each class:\n",
    "\n",
    "Class\t X1=1 X1=2 \tX1=3 \tX2=1 \tX2=2 \tX2=3\t X2=4\n",
    "\n",
    " A\t 3\t 3\t 4\t 4\t 3\t 3\t 3\n",
    "\n",
    " B\t 2\t 2\t 1\t 2\t 2\t 2\t 3\n",
    "\n",
    "Assuming equal prior probabilities for each class, which class would Naive Bayes predict the new instance\n",
    "to belong to?'''"
   ]
  },
  {
   "cell_type": "code",
   "execution_count": null,
   "id": "621f8c3f-e063-44bf-831b-c78cbec8f591",
   "metadata": {},
   "outputs": [],
   "source": [
    "'''To predict the class using Naive Bayes, follow these steps:\n",
    "\n",
    "1. **Calculate the likelihood for each class**:\n",
    "\n",
    "   For class A:\n",
    "   \\[\n",
    "   P(X1=3 | A) = \\frac{4}{10} = 0.4\n",
    "   \\]\n",
    "   \\[\n",
    "   P(X2=4 | A) = \\frac{3}{13} \\approx 0.231\n",
    "   \\]\n",
    "   \\[\n",
    "   P(A) = \\frac{10}{20} = 0.5\n",
    "   \\]\n",
    "   \\[\n",
    "   P(A | X1=3, X2=4) \\propto P(X1=3 | A) \\times P(X2=4 | A) \\times P(A) = 0.4 \\times 0.231 \\times 0.5 \\approx 0.023\n",
    "   \\]\n",
    "\n",
    "   For class B:\n",
    "   \\[\n",
    "   P(X1=3 | B) = \\frac{1}{7} \\approx 0.143\n",
    "   \\]\n",
    "   \\[\n",
    "   P(X2=4 | B) = \\frac{3}{11} \\approx 0.273\n",
    "   \\]\n",
    "   \\[\n",
    "   P(B) = \\frac{10}{20} = 0.5\n",
    "   \\]\n",
    "   \\[\n",
    "   P(B | X1=3, X2=4) \\propto P(X1=3 | B) \\times P(X2=4 | B) \\times P(B) = 0.143 \\times 0.273 \\times 0.5 \\approx 0.020\n",
    "   \\]\n",
    "\n",
    "2. **Compare the results**:\n",
    "\n",
    "   - \\( P(A | X1=3, X2=4) \\approx 0.023 \\)\n",
    "   - \\( P(B | X1=3, X2=4) \\approx 0.020 \\)\n",
    "\n",
    "Since \\( P(A | X1=3, X2=4) > P(B | X1=3, X2=4) \\), the Naive Bayes classifier predicts the new instance to belong to **class A**.'''"
   ]
  }
 ],
 "metadata": {
  "kernelspec": {
   "display_name": "Python 3 (ipykernel)",
   "language": "python",
   "name": "python3"
  },
  "language_info": {
   "codemirror_mode": {
    "name": "ipython",
    "version": 3
   },
   "file_extension": ".py",
   "mimetype": "text/x-python",
   "name": "python",
   "nbconvert_exporter": "python",
   "pygments_lexer": "ipython3",
   "version": "3.10.8"
  }
 },
 "nbformat": 4,
 "nbformat_minor": 5
}
